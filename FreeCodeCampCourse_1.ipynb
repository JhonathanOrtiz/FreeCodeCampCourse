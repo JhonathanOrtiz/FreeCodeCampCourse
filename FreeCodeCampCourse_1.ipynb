{
  "nbformat": 4,
  "nbformat_minor": 0,
  "metadata": {
    "colab": {
      "name": "FreeCodeCampCourse-1.ipynb",
      "provenance": [],
      "authorship_tag": "ABX9TyOQ1H8bQwg+rH6ZTDgPqM31",
      "include_colab_link": true
    },
    "kernelspec": {
      "name": "python3",
      "display_name": "Python 3"
    }
  },
  "cells": [
    {
      "cell_type": "markdown",
      "metadata": {
        "id": "view-in-github",
        "colab_type": "text"
      },
      "source": [
        "<a href=\"https://colab.research.google.com/github/JhonathanOrtiz/FreeCodeCampCourse/blob/master/FreeCodeCampCourse_1.ipynb\" target=\"_parent\"><img src=\"https://colab.research.google.com/assets/colab-badge.svg\" alt=\"Open In Colab\"/></a>"
      ]
    },
    {
      "cell_type": "code",
      "metadata": {
        "id": "muZM9f8_g4_r",
        "colab_type": "code",
        "colab": {}
      },
      "source": [
        "import torch\n",
        "import numpy as np"
      ],
      "execution_count": 0,
      "outputs": []
    },
    {
      "cell_type": "markdown",
      "metadata": {
        "id": "IzpQ8KY-Eytu",
        "colab_type": "text"
      },
      "source": [
        "### PERO ¿QUE RAYOS ES UN TENSOR?\n",
        "\n",
        "Para nosotros en inteligencia artificial y machine learning un tensor es un contenedor en el cual podemos almacenar números, ¿Como una matriz o un vector? si como en una matriz o un vector.\n",
        "\n",
        "¿Quieres saber la diferencia entre una matriz y un tensor [aquí](https://math.stackexchange.com/questions/412423/what-are-the-differences-between-a-matrix-and-a-tensor)\n",
        "esta una muy buena manera de saberlo."
      ]
    },
    {
      "cell_type": "markdown",
      "metadata": {
        "id": "VFqmg2ZONKPV",
        "colab_type": "text"
      },
      "source": [
        "### What's a Tensor?\n",
        "\n",
        "A tensor is an object that allow us store numbers, Like an array? yes, like an array or vector.\n",
        "\n",
        "Do you want know more about tensor a diference between tensors and Matrix? \n",
        "Click [here](https://math.stackexchange.com/questions/412423/what-are-the-differences-between-a-matrix-and-a-tensor)"
      ]
    },
    {
      "cell_type": "code",
      "metadata": {
        "id": "3IkqLMXyhrZZ",
        "colab_type": "code",
        "colab": {
          "base_uri": "https://localhost:8080/",
          "height": 50
        },
        "outputId": "14bfa8c8-0ff1-439a-f19f-2cc6a6977312"
      },
      "source": [
        "t1 = torch.tensor(1.)\n",
        "print(t1)\n",
        "t1.dtype"
      ],
      "execution_count": 16,
      "outputs": [
        {
          "output_type": "stream",
          "text": [
            "tensor(1.)\n"
          ],
          "name": "stdout"
        },
        {
          "output_type": "execute_result",
          "data": {
            "text/plain": [
              "torch.float32"
            ]
          },
          "metadata": {
            "tags": []
          },
          "execution_count": 16
        }
      ]
    },
    {
      "cell_type": "markdown",
      "metadata": {
        "id": "BYcjPdRjO21q",
        "colab_type": "text"
      },
      "source": [
        "En python nosotros podemos poner un punto al final de un número para indicar que el mismo es un numero floante. En éste caso creamos un numero tensor de un escalar. \n",
        "\n",
        "Ahora veamos como crear otros contenedores de datos."
      ]
    },
    {
      "cell_type": "markdown",
      "metadata": {
        "id": "ii1quLZdPsQa",
        "colab_type": "text"
      },
      "source": [
        "In python we can write a number followed by a dot, in this case we're indicate that number like a float number.\n",
        "\n",
        "Now, let`s see another data container."
      ]
    },
    {
      "cell_type": "code",
      "metadata": {
        "id": "2LzoQH-oQM1O",
        "colab_type": "code",
        "colab": {
          "base_uri": "https://localhost:8080/",
          "height": 66
        },
        "outputId": "0863670c-1640-44e4-e236-175dd5846616"
      },
      "source": [
        "#Vector tensor\n",
        "t2 =  torch.tensor([1, 2., 5, 6])\n",
        "print('Tensor shape {}'.format(t2.shape))\n",
        "print('')\n",
        "t2"
      ],
      "execution_count": 19,
      "outputs": [
        {
          "output_type": "stream",
          "text": [
            "Tensor shape torch.Size([4])\n",
            "\n"
          ],
          "name": "stdout"
        },
        {
          "output_type": "execute_result",
          "data": {
            "text/plain": [
              "tensor([1., 2., 5., 6.])"
            ]
          },
          "metadata": {
            "tags": []
          },
          "execution_count": 19
        }
      ]
    },
    {
      "cell_type": "code",
      "metadata": {
        "id": "WLdn0aUgQygB",
        "colab_type": "code",
        "colab": {
          "base_uri": "https://localhost:8080/",
          "height": 82
        },
        "outputId": "d0fde68e-cbb0-43b8-a05a-094b0b616cdc"
      },
      "source": [
        "#2D Matrix Tensor\n",
        "t3 = torch.tensor([[1, 2, 3], \n",
        "                   [2, 5, 6.]])\n",
        "print('Tensor shape {}'.format(t3.shape))\n",
        "print('')\n",
        "t3"
      ],
      "execution_count": 23,
      "outputs": [
        {
          "output_type": "stream",
          "text": [
            "Tensor shape torch.Size([2, 3])\n",
            "\n"
          ],
          "name": "stdout"
        },
        {
          "output_type": "execute_result",
          "data": {
            "text/plain": [
              "tensor([[1., 2., 3.],\n",
              "        [2., 5., 6.]])"
            ]
          },
          "metadata": {
            "tags": []
          },
          "execution_count": 23
        }
      ]
    },
    {
      "cell_type": "code",
      "metadata": {
        "id": "Q3RexpBzRJ3y",
        "colab_type": "code",
        "colab": {
          "base_uri": "https://localhost:8080/",
          "height": 131
        },
        "outputId": "632d9bcc-0de1-447d-90e3-139d814dcbaa"
      },
      "source": [
        "#3D matrix Tensor\n",
        "t4 =  torch.tensor([[[1, 2, 3], [3, 2, 1]],\n",
        "                    [[1, 5, 3], [1, 4, 5]]])\n",
        "\n",
        "print('Tensor shape {}'.format(t4.shape))\n",
        "print('')\n",
        "t4"
      ],
      "execution_count": 30,
      "outputs": [
        {
          "output_type": "stream",
          "text": [
            "Tensor shape torch.Size([2, 2, 3])\n",
            "\n"
          ],
          "name": "stdout"
        },
        {
          "output_type": "execute_result",
          "data": {
            "text/plain": [
              "tensor([[[1, 2, 3],\n",
              "         [3, 2, 1]],\n",
              "\n",
              "        [[1, 5, 3],\n",
              "         [1, 4, 5]]])"
            ]
          },
          "metadata": {
            "tags": []
          },
          "execution_count": 30
        }
      ]
    },
    {
      "cell_type": "markdown",
      "metadata": {
        "id": "MV7qXK-qUFUr",
        "colab_type": "text"
      },
      "source": [
        "### Operation and gradients\n",
        "\n",
        "We will need to associate tensors to compute our output from input, for this we can use the basic operator like '+' '-' or '*'. Example The image are readed like numpy ndarray and pytorch models works only with tensors. Remember this I CAN'T WORK WITH NUMPY ARRAY ON PYTORCH. We will see how to work with numpy array and tensor.\n",
        "\n",
        "The gradients are computed in Machine learning and Deep learing to teach to our model relationship between the data and the output to make accurate predictions. For this Pytorch has Automatic Diferentiation and compute darivatives automatically.\n",
        "\n",
        "For the people is Artificial Intelligence for us Diferentiable Programming"
      ]
    },
    {
      "cell_type": "markdown",
      "metadata": {
        "id": "eE0uSjW1XuIJ",
        "colab_type": "text"
      },
      "source": [
        "### Gradientes y operaciones\n",
        "\n",
        "Necesitaresmos asociar tensores para calcular las predicciones del modelo y para ello podemos usar operadores básicos conocidos como '+', '-' or '*'. Un ejemplo, las imagenes muchas veces como numpy ndarray y no podemos pasar a un modelo de pytorch un numpy ndarray para ello veremos como trabajar entre matrices y tensores, solo recuerda 'NO PUEDO USAR NUMPY ARRAYS CON TENSORES' \n",
        "\n",
        "\n",
        "Los gradientes son calculados en Machine Learning enseñar a nuestro modelos relaciones entre los datos y la salida, para ello pytorch nos provee la Auto-diferenciacion y automaticamente nos cálcula derivadas.\n",
        "\n",
        "Para la personas es Inteligencia Artificial y para nosotros Programacion Diferenciable."
      ]
    },
    {
      "cell_type": "code",
      "metadata": {
        "id": "yrX3HOPDSJPD",
        "colab_type": "code",
        "colab": {
          "base_uri": "https://localhost:8080/",
          "height": 191
        },
        "outputId": "97b72581-cd3e-42fe-dd9d-d570c2a1b69c"
      },
      "source": [
        "x = np.array([1,])\n",
        "y = torch.tensor([3])\n",
        "\n",
        "print(x + y)"
      ],
      "execution_count": 35,
      "outputs": [
        {
          "output_type": "error",
          "ename": "TypeError",
          "evalue": "ignored",
          "traceback": [
            "\u001b[0;31m---------------------------------------------------------------------------\u001b[0m",
            "\u001b[0;31mTypeError\u001b[0m                                 Traceback (most recent call last)",
            "\u001b[0;32m<ipython-input-35-477188263f01>\u001b[0m in \u001b[0;36m<module>\u001b[0;34m()\u001b[0m\n\u001b[1;32m      2\u001b[0m \u001b[0my\u001b[0m \u001b[0;34m=\u001b[0m \u001b[0mtorch\u001b[0m\u001b[0;34m.\u001b[0m\u001b[0mtensor\u001b[0m\u001b[0;34m(\u001b[0m\u001b[0;34m[\u001b[0m\u001b[0;36m3\u001b[0m\u001b[0;34m]\u001b[0m\u001b[0;34m)\u001b[0m\u001b[0;34m\u001b[0m\u001b[0;34m\u001b[0m\u001b[0m\n\u001b[1;32m      3\u001b[0m \u001b[0;34m\u001b[0m\u001b[0m\n\u001b[0;32m----> 4\u001b[0;31m \u001b[0mprint\u001b[0m\u001b[0;34m(\u001b[0m\u001b[0mx\u001b[0m \u001b[0;34m+\u001b[0m \u001b[0my\u001b[0m\u001b[0;34m)\u001b[0m\u001b[0;34m\u001b[0m\u001b[0;34m\u001b[0m\u001b[0m\n\u001b[0m",
            "\u001b[0;31mTypeError\u001b[0m: unsupported operand type(s) for +: 'numpy.ndarray' and 'Tensor'"
          ]
        }
      ]
    },
    {
      "cell_type": "markdown",
      "metadata": {
        "id": "tG7GOs_Day0R",
        "colab_type": "text"
      },
      "source": [
        "As you can see is impossible associate a tensor and numpy ndarray, and **What's the solcution?** Pytorch is our friend."
      ]
    },
    {
      "cell_type": "markdown",
      "metadata": {
        "id": "WnE4JflMbFTS",
        "colab_type": "text"
      },
      "source": [
        "Como puedes ver no podemos asociar tensores y numpy ndarray **¿Cuál es la solución?** Pytorch es nuestro amigo. "
      ]
    },
    {
      "cell_type": "code",
      "metadata": {
        "id": "Flg8c8a8TnQQ",
        "colab_type": "code",
        "colab": {
          "base_uri": "https://localhost:8080/",
          "height": 66
        },
        "outputId": "b4476985-25cc-4ecc-d1da-67e24d0a127b"
      },
      "source": [
        "#Solution!!!\n",
        "#From numpy to tensor\n",
        "t = torch.from_numpy(x)\n",
        "print('Tensor sum {}.'.format(t + y))\n",
        "print('DType x: {}'.format(type(x)))\n",
        "print('New DType x: {}'.format(type(t)))"
      ],
      "execution_count": 42,
      "outputs": [
        {
          "output_type": "stream",
          "text": [
            "Tensor sum tensor([4]).\n",
            "DType x: <class 'numpy.ndarray'>\n",
            "New DType x: <class 'torch.Tensor'>\n"
          ],
          "name": "stdout"
        }
      ]
    },
    {
      "cell_type": "code",
      "metadata": {
        "id": "Jl8YbX8Hckb3",
        "colab_type": "code",
        "colab": {
          "base_uri": "https://localhost:8080/",
          "height": 33
        },
        "outputId": "e6e566a4-c4a0-4c0c-994c-a8b17bcead0f"
      },
      "source": [
        "#From tensor to numpy ndarray\n",
        "n = t.numpy()\n",
        "type(n)"
      ],
      "execution_count": 43,
      "outputs": [
        {
          "output_type": "execute_result",
          "data": {
            "text/plain": [
              "numpy.ndarray"
            ]
          },
          "metadata": {
            "tags": []
          },
          "execution_count": 43
        }
      ]
    },
    {
      "cell_type": "markdown",
      "metadata": {
        "id": "xKPC0yMueI91",
        "colab_type": "text"
      },
      "source": [
        "## NOTE\n",
        "\n",
        "To show image with matplotlib for example, the array should be numpy ndaaray not a tensor."
      ]
    },
    {
      "cell_type": "markdown",
      "metadata": {
        "id": "hCj0-8uueYJu",
        "colab_type": "text"
      },
      "source": [
        "## NOTA\n",
        "\n",
        "Para mostrar imagenes con matplotlib por ejemplo el array deberá ser un numpy ndarray no un tensor."
      ]
    },
    {
      "cell_type": "code",
      "metadata": {
        "id": "WmoEKbv5e6rt",
        "colab_type": "code",
        "colab": {
          "base_uri": "https://localhost:8080/",
          "height": 33
        },
        "outputId": "d1c4ae34-d409-4921-8d23-0f46d9cb4f03"
      },
      "source": [
        "m = torch.tensor([10.])\n",
        "b = torch.tensor([5.], requires_grad=True)\n",
        "X = torch.tensor([3.], requires_grad=True)\n",
        "\n",
        "y = m * X + b\n",
        "y"
      ],
      "execution_count": 48,
      "outputs": [
        {
          "output_type": "execute_result",
          "data": {
            "text/plain": [
              "tensor([35.], grad_fn=<AddBackward0>)"
            ]
          },
          "metadata": {
            "tags": []
          },
          "execution_count": 48
        }
      ]
    },
    {
      "cell_type": "markdown",
      "metadata": {
        "id": "C4E-m3gkge5e",
        "colab_type": "text"
      },
      "source": [
        "Nothing new the result is 35 as we expected, so the awesome is that Pytorch compete automatically the derivatives y if *Requires_grad* is turn True and to compute this derivative only we should call to .backward method."
      ]
    },
    {
      "cell_type": "markdown",
      "metadata": {
        "id": "iNGJD78RhBWe",
        "colab_type": "text"
      },
      "source": [
        "Nada nuevo hasta ahora y el resultado como esperabamos es 35, pero lo asombroso es que Pytorch calcula automaticamente la derivada de **y** con solo poner en True el argumento *requieres_grad* y para calcular las dereivadas solo debemos llamar al metodo .backward."
      ]
    },
    {
      "cell_type": "code",
      "metadata": {
        "id": "ZGyMei9lgSuq",
        "colab_type": "code",
        "colab": {}
      },
      "source": [
        "y.backward()"
      ],
      "execution_count": 0,
      "outputs": []
    },
    {
      "cell_type": "markdown",
      "metadata": {
        "id": "OfVWoJSGh0XF",
        "colab_type": "text"
      },
      "source": [
        "Now the derivatives are stored in the .grad propety of the respective tensors"
      ]
    },
    {
      "cell_type": "markdown",
      "metadata": {
        "id": "eCz2KWuDiOuB",
        "colab_type": "text"
      },
      "source": [
        "Ahora las derivadas son almacenadas en la propiedad .grad de cada tensor"
      ]
    },
    {
      "cell_type": "code",
      "metadata": {
        "id": "drCGjAsxiVcN",
        "colab_type": "code",
        "colab": {
          "base_uri": "https://localhost:8080/",
          "height": 66
        },
        "outputId": "7e2f74a9-b6b5-4fa7-bf4a-0a6115d16a0f"
      },
      "source": [
        "print('dy/dx: ', X.grad)\n",
        "print('dy/dm: ', m.grad)\n",
        "print('dy/db: ', b.grad)"
      ],
      "execution_count": 51,
      "outputs": [
        {
          "output_type": "stream",
          "text": [
            "dy/dx:  tensor([10.])\n",
            "dy/dm:  None\n",
            "dy/db:  tensor([1.])\n"
          ],
          "name": "stdout"
        }
      ]
    },
    {
      "cell_type": "markdown",
      "metadata": {
        "id": "E8_wgj1Lio3o",
        "colab_type": "text"
      },
      "source": [
        "dy/dx is none because *requieres_grad* is not defined True."
      ]
    },
    {
      "cell_type": "markdown",
      "metadata": {
        "id": "tjnOnz0Mi1qF",
        "colab_type": "text"
      },
      "source": [
        "dy/dx es none porque requieres_grad no se definió como True"
      ]
    },
    {
      "cell_type": "code",
      "metadata": {
        "id": "Vf8kYnMvjCO2",
        "colab_type": "code",
        "colab": {
          "base_uri": "https://localhost:8080/",
          "height": 163
        },
        "outputId": "3e38aff6-4472-45a4-bc87-d9ae72d5a387"
      },
      "source": [
        "!pip install jovian"
      ],
      "execution_count": 55,
      "outputs": [
        {
          "output_type": "stream",
          "text": [
            "Requirement already satisfied: jovian in /usr/local/lib/python3.6/dist-packages (0.2.13)\n",
            "Requirement already satisfied: pyyaml in /usr/local/lib/python3.6/dist-packages (from jovian) (3.13)\n",
            "Requirement already satisfied: click in /usr/local/lib/python3.6/dist-packages (from jovian) (7.1.2)\n",
            "Requirement already satisfied: requests in /usr/local/lib/python3.6/dist-packages (from jovian) (2.23.0)\n",
            "Requirement already satisfied: uuid in /usr/local/lib/python3.6/dist-packages (from jovian) (1.30)\n",
            "Requirement already satisfied: idna<3,>=2.5 in /usr/local/lib/python3.6/dist-packages (from requests->jovian) (2.9)\n",
            "Requirement already satisfied: certifi>=2017.4.17 in /usr/local/lib/python3.6/dist-packages (from requests->jovian) (2020.4.5.1)\n",
            "Requirement already satisfied: urllib3!=1.25.0,!=1.25.1,<1.26,>=1.21.1 in /usr/local/lib/python3.6/dist-packages (from requests->jovian) (1.24.3)\n",
            "Requirement already satisfied: chardet<4,>=3.0.2 in /usr/local/lib/python3.6/dist-packages (from requests->jovian) (3.0.4)\n"
          ],
          "name": "stdout"
        }
      ]
    }
  ]
}